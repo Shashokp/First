{
 "cells": [
  {
   "cell_type": "markdown",
   "metadata": {},
   "source": [
    "#Угадай число\n",
    "Нужно написать программу, которая угадывает число за минимальное число попыток.\n",
    "\n",
    "##Условия соревнования\n",
    "Компьютер загадывает целое число от 1 до 100, и нам его нужно угадать. Под «угадать», подразумевается «написать программу, которая угадывает число».\n",
    "Алгоритм учитывает информацию о том, больше ли случайное число или меньше нужного нам.\n",
    "Необходимо добиться того, чтобы программа угадывала число меньше, чем за 20 попыток."
   ]
  },
  {
   "cell_type": "code",
   "execution_count": 2,
   "metadata": {},
   "outputs": [],
   "source": [
    "import game"
   ]
  },
  {
   "cell_type": "markdown",
   "metadata": {},
   "source": [
    "##Функция для оценки\n",
    "Эта функция необходима, чтобы определить, за какое число попыток программа угадывает наше число."
   ]
  },
  {
   "cell_type": "code",
   "execution_count": null,
   "metadata": {},
   "outputs": [],
   "source": [
    "from game import score_game\n",
    "from game import random_predict"
   ]
  },
  {
   "cell_type": "markdown",
   "metadata": {},
   "source": [
    "##Оценка работы алгоритма"
   ]
  },
  {
   "cell_type": "code",
   "execution_count": null,
   "metadata": {},
   "outputs": [],
   "source": [
    "score_game(random_predict) #вызов функции"
   ]
  }
 ],
 "metadata": {
  "interpreter": {
   "hash": "56d7bb63794e1e5eea5ca6084b71705f7cf246d21cc2283645ef4dc4f6b70c3b"
  },
  "kernelspec": {
   "display_name": "Python 3.9.10 64-bit",
   "language": "python",
   "name": "python3"
  },
  "language_info": {
   "codemirror_mode": {
    "name": "ipython",
    "version": 3
   },
   "file_extension": ".py",
   "mimetype": "text/x-python",
   "name": "python",
   "nbconvert_exporter": "python",
   "pygments_lexer": "ipython3",
   "version": "3.9.10"
  },
  "orig_nbformat": 4
 },
 "nbformat": 4,
 "nbformat_minor": 2
}
